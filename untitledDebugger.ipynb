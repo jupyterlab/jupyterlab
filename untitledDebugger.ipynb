{
 "cells": [
  {
   "cell_type": "code",
   "execution_count": 3,
   "id": "a6fd4998-f7a3-4e40-b57d-93af951aba3a",
   "metadata": {},
   "outputs": [],
   "source": [
    "def com_avg(nums):\n",
    "    t = 0\n",
    "    for n in nums:\n",
    "        t += n\n",
    "    return t / len(nums)"
   ]
  },
  {
   "cell_type": "code",
   "execution_count": null,
   "id": "b4dab643-b043-4b79-806f-5fc9a6e58f02",
   "metadata": {},
   "outputs": [],
   "source": [
    "nums = [10, 20, 40]\n",
    "r = com_avg(nums)\n",
    "print('Avg', r)"
   ]
  },
  {
   "cell_type": "code",
   "execution_count": null,
   "id": "504fe786-acdb-48ee-b7df-0ce9683b4592",
   "metadata": {},
   "outputs": [],
   "source": []
  }
 ],
 "metadata": {
  "kernelspec": {
   "display_name": "Python 3 (ipykernel)",
   "language": "python",
   "name": "python3"
  },
  "language_info": {
   "codemirror_mode": {
    "name": "ipython",
    "version": 3
   },
   "file_extension": ".py",
   "mimetype": "text/x-python",
   "name": "python",
   "nbconvert_exporter": "python",
   "pygments_lexer": "ipython3",
   "version": "3.13.5"
  }
 },
 "nbformat": 4,
 "nbformat_minor": 5
}
