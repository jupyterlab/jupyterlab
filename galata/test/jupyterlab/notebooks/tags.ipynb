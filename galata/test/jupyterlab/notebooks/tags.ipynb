{
 "cells": [
  {
   "cell_type": "code",
   "execution_count": null,
   "id": "e937ae0b-c786-4c37-bb3a-b10c32939aff",
   "metadata": {
    "editable": true,
    "slideshow": {
     "slide_type": ""
    },
    "tags": [
     "banana"
    ]
   },
   "outputs": [],
   "source": [
    "# Code banana"
   ]
  },
  {
   "cell_type": "markdown",
   "id": "6ca7cb02-b30e-4390-a617-7db7302b9dc8",
   "metadata": {
    "editable": true,
    "slideshow": {
     "slide_type": ""
    },
    "tags": [
     "orange"
    ]
   },
   "source": [
    "# Markdown orange"
   ]
  },
  {
   "cell_type": "raw",
   "id": "cbb0eea3-1903-484b-a98f-c72be9516386",
   "metadata": {
    "editable": true,
    "raw_mimetype": "",
    "slideshow": {
     "slide_type": ""
    },
    "tags": [
     "cherry"
    ]
   },
   "source": [
    "Raw cherry"
   ]
  },
  {
   "cell_type": "code",
   "execution_count": null,
   "id": "91aebf5f-6912-41e5-a245-51c840927256",
   "metadata": {
    "editable": true,
    "slideshow": {
     "slide_type": ""
    },
    "tags": [
     "orange"
    ]
   },
   "outputs": [],
   "source": [
    "# Code orange"
   ]
  },
  {
   "cell_type": "markdown",
   "id": "1d468d10-99aa-4342-95a7-69c44347e613",
   "metadata": {
    "editable": true,
    "slideshow": {
     "slide_type": ""
    },
    "tags": [
     "banana"
    ]
   },
   "source": [
    "# Markdown banana"
   ]
  },
  {
   "cell_type": "raw",
   "id": "9715f2a2-2c0c-41bf-ad79-836a1d5a9be6",
   "metadata": {
    "editable": true,
    "raw_mimetype": "",
    "slideshow": {
     "slide_type": ""
    },
    "tags": [
     "orange",
     "banana"
    ]
   },
   "source": [
    "Raw banana orange"
   ]
  },
  {
   "cell_type": "code",
   "execution_count": null,
   "id": "3979e10b-7426-4fcb-899c-7c459fcd072c",
   "metadata": {},
   "outputs": [],
   "source": [
    "Code no tags"
   ]
  },
  {
   "cell_type": "markdown",
   "id": "ba3fd09a-233b-4e02-94c6-c0a318e390e4",
   "metadata": {},
   "source": [
    "Markdown no tags"
   ]
  },
  {
   "cell_type": "raw",
   "id": "021e2e38-e08c-4991-b349-12d3ccaa5ec0",
   "metadata": {},
   "source": [
    "Raw no tags"
   ]
  }
 ],
 "metadata": {
  "kernelspec": {
   "display_name": "Python 3 (ipykernel)",
   "language": "python",
   "name": "python3"
  },
  "language_info": {
   "codemirror_mode": {
    "name": "ipython",
    "version": 3
   },
   "file_extension": ".py",
   "mimetype": "text/x-python",
   "name": "python",
   "nbconvert_exporter": "python",
   "pygments_lexer": "ipython3",
   "version": "3.10.14"
  }
 },
 "nbformat": 4,
 "nbformat_minor": 5
}
