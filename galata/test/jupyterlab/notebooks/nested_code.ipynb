{
 "cells": [
  {
   "cell_type": "code",
   "execution_count": null,
   "id": "8d5a149b",
   "metadata": {},
   "outputs": [],
   "source": [
    "class Test:\n",
    "  def __init__(self):\n",
    "    self.data = []\n",
    "\n",
    "  def test_data(self):\n",
    "    for i in range(5):\n",
    "      if i % 2 == 0:\n",
    "        for j in range(3):\n",
    "          if j > 0:\n",
    "            self.data.append(i * j)\n",
    "          else:\n",
    "            self.data.append(0)\n",
    "      else:\n",
    "        try:\n",
    "          result = i ** 2\n",
    "          self.data.append(result)\n",
    "        except Exception as e:\n",
    "          print(f\"Error: {e}\")\n",
    "    return self.data\n",
    "\n",
    "class Test_2:\n",
    "  def __init__(self):\n",
    "    self.data = 1\n",
    "\n",
    "obj = Test()"
   ]
  }
 ],
 "metadata": {
  "language_info": {
   "name": "python"
  }
 },
 "nbformat": 4,
 "nbformat_minor": 5
}
