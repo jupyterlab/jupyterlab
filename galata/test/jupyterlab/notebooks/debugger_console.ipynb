{
 "cells": [
  {
   "cell_type": "code",
   "execution_count": null,
   "id": "53444b61-9b33-4202-a9c3-f05b4855e2f8",
   "metadata": {},
   "outputs": [],
   "source": [
    "def test_function():\n",
    "    user_count = 42\n",
    "    welcome_message = \"hello world\"\n",
    "    data_list = [1, 2, 3, 4, 5]\n",
    "    return user_count, welcome_message, data_list\n",
    "\n",
    "result = test_function()"
   ]
  }
 ],
 "metadata": {
  "kernelspec": {
   "display_name": "Python 3 (ipykernel)",
   "language": "python",
   "name": "python3"
  },
  "language_info": {
   "codemirror_mode": {
    "name": "ipython",
    "version": 3
   },
   "file_extension": ".py",
   "mimetype": "text/x-python",
   "name": "python",
   "nbconvert_exporter": "python",
   "pygments_lexer": "ipython3",
   "version": "3.11.9"
  }
 },
 "nbformat": 4,
 "nbformat_minor": 5
}
